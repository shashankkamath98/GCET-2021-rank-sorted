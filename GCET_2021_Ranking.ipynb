{
 "cells": [
  {
   "cell_type": "code",
   "execution_count": 1,
   "id": "e048cab4",
   "metadata": {},
   "outputs": [],
   "source": [
    "import pandas as pd\n"
   ]
  },
  {
   "cell_type": "code",
   "execution_count": 6,
   "id": "2807d3f0",
   "metadata": {},
   "outputs": [],
   "source": [
    "#df = pd.read_excel(r\"C:\\Users\\shash\\Desktop\\Ranks-converted.xls\")\n",
    "#df.head()"
   ]
  },
  {
   "cell_type": "code",
   "execution_count": 7,
   "id": "679e6793",
   "metadata": {},
   "outputs": [],
   "source": [
    "#df.sort_values(by=['Ranks','PM']).head(10)"
   ]
  },
  {
   "cell_type": "code",
   "execution_count": 8,
   "id": "b2b638ca",
   "metadata": {},
   "outputs": [],
   "source": [
    "df1= pd.read_excel(r\"C:\\Users\\shash\\Desktop\\gcet2021.xls\")"
   ]
  },
  {
   "cell_type": "code",
   "execution_count": 9,
   "id": "e5a257b5",
   "metadata": {},
   "outputs": [
    {
     "data": {
      "text/html": [
       "<div>\n",
       "<style scoped>\n",
       "    .dataframe tbody tr th:only-of-type {\n",
       "        vertical-align: middle;\n",
       "    }\n",
       "\n",
       "    .dataframe tbody tr th {\n",
       "        vertical-align: top;\n",
       "    }\n",
       "\n",
       "    .dataframe thead th {\n",
       "        text-align: right;\n",
       "    }\n",
       "</style>\n",
       "<table border=\"1\" class=\"dataframe\">\n",
       "  <thead>\n",
       "    <tr style=\"text-align: right;\">\n",
       "      <th></th>\n",
       "      <th>ROLLNO</th>\n",
       "      <th>PHY_MKS</th>\n",
       "      <th>CHE_MKS</th>\n",
       "      <th>MAT_MKS</th>\n",
       "    </tr>\n",
       "  </thead>\n",
       "  <tbody>\n",
       "    <tr>\n",
       "      <th>0</th>\n",
       "      <td>10001</td>\n",
       "      <td>24</td>\n",
       "      <td>28</td>\n",
       "      <td>35</td>\n",
       "    </tr>\n",
       "    <tr>\n",
       "      <th>1</th>\n",
       "      <td>10002</td>\n",
       "      <td>33</td>\n",
       "      <td>21</td>\n",
       "      <td>30</td>\n",
       "    </tr>\n",
       "    <tr>\n",
       "      <th>2</th>\n",
       "      <td>10003</td>\n",
       "      <td>30</td>\n",
       "      <td>36</td>\n",
       "      <td>56</td>\n",
       "    </tr>\n",
       "    <tr>\n",
       "      <th>3</th>\n",
       "      <td>10004</td>\n",
       "      <td>12</td>\n",
       "      <td>19</td>\n",
       "      <td>33</td>\n",
       "    </tr>\n",
       "    <tr>\n",
       "      <th>4</th>\n",
       "      <td>10005</td>\n",
       "      <td>28</td>\n",
       "      <td>22</td>\n",
       "      <td>44</td>\n",
       "    </tr>\n",
       "  </tbody>\n",
       "</table>\n",
       "</div>"
      ],
      "text/plain": [
       "   ROLLNO PHY_MKS CHE_MKS MAT_MKS\n",
       "0   10001      24      28      35\n",
       "1   10002      33      21      30\n",
       "2   10003      30      36      56\n",
       "3   10004      12      19      33\n",
       "4   10005      28      22      44"
      ]
     },
     "execution_count": 9,
     "metadata": {},
     "output_type": "execute_result"
    }
   ],
   "source": [
    "df1.head()"
   ]
  },
  {
   "cell_type": "code",
   "execution_count": 11,
   "id": "cc682fe2",
   "metadata": {},
   "outputs": [
    {
     "data": {
      "text/plain": [
       "(2935, 4)"
      ]
     },
     "execution_count": 11,
     "metadata": {},
     "output_type": "execute_result"
    }
   ],
   "source": [
    "df1.shape"
   ]
  },
  {
   "cell_type": "code",
   "execution_count": null,
   "id": "499a8abd",
   "metadata": {},
   "outputs": [],
   "source": [
    "#PM = df1[\"PHY_MKS\"] + df1[\"MAT_MKS\"]\n",
    "#df1[\"col3\"] = PM\n",
    "#print(df1)"
   ]
  },
  {
   "cell_type": "code",
   "execution_count": 12,
   "id": "51133a2c",
   "metadata": {},
   "outputs": [
    {
     "data": {
      "text/plain": [
       "ROLLNO     0\n",
       "PHY_MKS    0\n",
       "CHE_MKS    0\n",
       "MAT_MKS    0\n",
       "dtype: int64"
      ]
     },
     "execution_count": 12,
     "metadata": {},
     "output_type": "execute_result"
    }
   ],
   "source": [
    "df1.isnull().sum()"
   ]
  },
  {
   "cell_type": "code",
   "execution_count": null,
   "id": "4fe5c9db",
   "metadata": {},
   "outputs": [],
   "source": []
  },
  {
   "cell_type": "code",
   "execution_count": 13,
   "id": "5e34d12b",
   "metadata": {},
   "outputs": [
    {
     "data": {
      "text/plain": [
       "array([35, 30, 56, 33, 44, 51, 15, 26, 17, 24, 20, 41, 18, 50, 22, 49, 28,\n",
       "       29, 34, 32, 25, 37, 21, 27, 31, 65, 19, 23, 47, 36, 42, 38, 48, 43,\n",
       "       14, 39, 'A', 16, 12, 53, 64, 52, '-', 57, 40, 59, 71, 13, 73, 46,\n",
       "       68, 62, 45, 58, 54, 69, 11, 72, 61, 55, 9, 66, 10, 67, 70],\n",
       "      dtype=object)"
      ]
     },
     "execution_count": 13,
     "metadata": {},
     "output_type": "execute_result"
    }
   ],
   "source": [
    "df1[\"MAT_MKS\"].unique()"
   ]
  },
  {
   "cell_type": "code",
   "execution_count": 19,
   "id": "36d66b37",
   "metadata": {},
   "outputs": [],
   "source": [
    "#df2= df.drop(df[df['Age'] < 25].index, inplace = True)\n",
    "#df2 = df1.drop(['MAT_MKS'] == '-')"
   ]
  },
  {
   "cell_type": "code",
   "execution_count": null,
   "id": "226c440b",
   "metadata": {},
   "outputs": [],
   "source": [
    "# details = {\n",
    "#     'Name' : ['Ankit', 'Aishwarya', 'Shaurya',\n",
    "#               'Shivangi', 'Priya', 'Swapnil'],\n",
    "#     'Age' : [23, 21, 22, 21, 24, 25],\n",
    "#     'University' : ['BHU', 'JNU', 'DU', 'BHU', \n",
    "#                     'Geu', 'Geu'],\n",
    "# }\n",
    "  \n",
    "# # creating a Dataframe object \n",
    "# df = pd.DataFrame(details, columns = ['Name', 'Age',\n",
    "#                                       'University'],\n",
    "#                   index = ['a', 'b', 'c', 'd', 'e',\n",
    "#                            'f'])"
   ]
  },
  {
   "cell_type": "code",
   "execution_count": 20,
   "id": "d54b6a0f",
   "metadata": {},
   "outputs": [
    {
     "data": {
      "text/plain": [
       "array([24, 33, 30, 12, 28, 26, 16, 22, 19, 20, 23, 32, 29, 25, 18, 21, 15,\n",
       "       13, 36, 14, 37, 17, 27, 35, 11, 'A', 8, 41, 44, 31, 54, 34, 48, 43,\n",
       "       58, 39, 40, 42, 53, 10, 9, 38, 6, 56, 49, 52, 59, 55, 46, 45, 1,\n",
       "       50], dtype=object)"
      ]
     },
     "execution_count": 20,
     "metadata": {},
     "output_type": "execute_result"
    }
   ],
   "source": [
    "df1[\"PHY_MKS\"].unique()"
   ]
  },
  {
   "cell_type": "code",
   "execution_count": 21,
   "id": "13fcb26e",
   "metadata": {},
   "outputs": [
    {
     "data": {
      "text/plain": [
       "array([28, 21, 36, 19, 22, 23, 27, 33, 25, 26, 18, 16, 31, 20, 30, 17, 39,\n",
       "       44, 29, 32, 54, 14, 42, 41, 24, 38, 34, 49, 13, 'A', 56, 15, 37,\n",
       "       62, 35, 12, 63, 60, 64, 58, 45, 46, 40, 57, 69, 59, 43, 48, 55, 68,\n",
       "       52, 50, 67, 47, 51, 10, 70, 53, 11, 9, 65, 61], dtype=object)"
      ]
     },
     "execution_count": 21,
     "metadata": {},
     "output_type": "execute_result"
    }
   ],
   "source": [
    "df1[\"CHE_MKS\"].unique()"
   ]
  },
  {
   "cell_type": "code",
   "execution_count": 23,
   "id": "2e06289a",
   "metadata": {},
   "outputs": [
    {
     "data": {
      "text/plain": [
       "Int64Index([ 151,  152,  153,  154,  155,  156,  157,  158,  159,  160,\n",
       "            ...\n",
       "            2925, 2926, 2927, 2928, 2929, 2930, 2931, 2932, 2933, 2934],\n",
       "           dtype='int64', length=806)"
      ]
     },
     "execution_count": 23,
     "metadata": {},
     "output_type": "execute_result"
    }
   ],
   "source": [
    "df1[ df1['MAT_MKS'] == '-' ].index"
   ]
  },
  {
   "cell_type": "code",
   "execution_count": 28,
   "id": "d2ff0d49",
   "metadata": {},
   "outputs": [
    {
     "name": "stdout",
     "output_type": "stream",
     "text": [
      "0       False\n",
      "1       False\n",
      "2       False\n",
      "3       False\n",
      "4       False\n",
      "        ...  \n",
      "2930    False\n",
      "2931    False\n",
      "2932    False\n",
      "2933    False\n",
      "2934    False\n",
      "Name: MAT_MKS, Length: 2935, dtype: bool\n"
     ]
    }
   ],
   "source": [
    "print(df1['MAT_MKS'] == 'A')"
   ]
  },
  {
   "cell_type": "code",
   "execution_count": 30,
   "id": "aa59bb5f",
   "metadata": {},
   "outputs": [
    {
     "name": "stdout",
     "output_type": "stream",
     "text": [
      "      ROLLNO PHY_MKS CHE_MKS MAT_MKS\n",
      "0      10001      24      28      35\n",
      "1      10002      33      21      30\n",
      "2      10003      30      36      56\n",
      "3      10004      12      19      33\n",
      "4      10005      28      22      44\n",
      "...      ...     ...     ...     ...\n",
      "2930   25554      14      29       -\n",
      "2931   25555      20      18       -\n",
      "2932   25556      23      21       -\n",
      "2933   25557      16      36       -\n",
      "2934   25558      23      17       -\n",
      "\n",
      "[2839 rows x 4 columns]\n"
     ]
    }
   ],
   "source": [
    "df1 = df1.drop(df1[df1['MAT_MKS'] == 'A'].index)\n",
    "print(df1)"
   ]
  },
  {
   "cell_type": "code",
   "execution_count": 32,
   "id": "acc5a5d9",
   "metadata": {},
   "outputs": [
    {
     "data": {
      "text/plain": [
       "array([35, 30, 56, 33, 44, 51, 15, 26, 17, 24, 20, 41, 18, 50, 22, 49, 28,\n",
       "       29, 34, 32, 25, 37, 21, 27, 31, 65, 19, 23, 47, 36, 42, 38, 48, 43,\n",
       "       14, 39, 16, 12, 53, 64, 52, '-', 57, 40, 59, 71, 13, 73, 46, 68,\n",
       "       62, 45, 58, 54, 69, 11, 72, 61, 55, 9, 66, 10, 67, 70],\n",
       "      dtype=object)"
      ]
     },
     "execution_count": 32,
     "metadata": {},
     "output_type": "execute_result"
    }
   ],
   "source": [
    "df1['MAT_MKS'].unique()"
   ]
  },
  {
   "cell_type": "code",
   "execution_count": 33,
   "id": "0ea936b3",
   "metadata": {},
   "outputs": [
    {
     "name": "stdout",
     "output_type": "stream",
     "text": [
      "      ROLLNO PHY_MKS CHE_MKS MAT_MKS\n",
      "0      10001      24      28      35\n",
      "1      10002      33      21      30\n",
      "2      10003      30      36      56\n",
      "3      10004      12      19      33\n",
      "4      10005      28      22      44\n",
      "...      ...     ...     ...     ...\n",
      "2871   25193      15      19      14\n",
      "2872   25194      13      34      24\n",
      "2874   25196      20      26      33\n",
      "2875   25197      27      24      26\n",
      "2876   25198       9      18      31\n",
      "\n",
      "[2033 rows x 4 columns]\n"
     ]
    }
   ],
   "source": [
    "df1 = df1.drop(df1[df1['MAT_MKS'] == '-'].index)\n",
    "print(df1)"
   ]
  },
  {
   "cell_type": "code",
   "execution_count": 34,
   "id": "3f13795f",
   "metadata": {},
   "outputs": [
    {
     "data": {
      "text/plain": [
       "array([35, 30, 56, 33, 44, 51, 15, 26, 17, 24, 20, 41, 18, 50, 22, 49, 28,\n",
       "       29, 34, 32, 25, 37, 21, 27, 31, 65, 19, 23, 47, 36, 42, 38, 48, 43,\n",
       "       14, 39, 16, 12, 53, 64, 52, 57, 40, 59, 71, 13, 73, 46, 68, 62, 45,\n",
       "       58, 54, 69, 11, 72, 61, 55, 9, 66, 10, 67, 70], dtype=object)"
      ]
     },
     "execution_count": 34,
     "metadata": {},
     "output_type": "execute_result"
    }
   ],
   "source": [
    "df1['MAT_MKS'].unique()"
   ]
  },
  {
   "cell_type": "code",
   "execution_count": 35,
   "id": "ae73b871",
   "metadata": {},
   "outputs": [
    {
     "name": "stdout",
     "output_type": "stream",
     "text": [
      "      ROLLNO PHY_MKS CHE_MKS MAT_MKS\n",
      "0      10001      24      28      35\n",
      "1      10002      33      21      30\n",
      "2      10003      30      36      56\n",
      "3      10004      12      19      33\n",
      "4      10005      28      22      44\n",
      "...      ...     ...     ...     ...\n",
      "2871   25193      15      19      14\n",
      "2872   25194      13      34      24\n",
      "2874   25196      20      26      33\n",
      "2875   25197      27      24      26\n",
      "2876   25198       9      18      31\n",
      "\n",
      "[2032 rows x 4 columns]\n"
     ]
    }
   ],
   "source": [
    "df1 = df1.drop(df1[df1['PHY_MKS'] == 'A'].index)\n",
    "print(df1)"
   ]
  },
  {
   "cell_type": "code",
   "execution_count": 36,
   "id": "bb85afc1",
   "metadata": {},
   "outputs": [
    {
     "name": "stdout",
     "output_type": "stream",
     "text": [
      "      ROLLNO PHY_MKS CHE_MKS MAT_MKS\n",
      "0      10001      24      28      35\n",
      "1      10002      33      21      30\n",
      "2      10003      30      36      56\n",
      "3      10004      12      19      33\n",
      "4      10005      28      22      44\n",
      "...      ...     ...     ...     ...\n",
      "2871   25193      15      19      14\n",
      "2872   25194      13      34      24\n",
      "2874   25196      20      26      33\n",
      "2875   25197      27      24      26\n",
      "2876   25198       9      18      31\n",
      "\n",
      "[2016 rows x 4 columns]\n"
     ]
    }
   ],
   "source": [
    "df1 = df1.drop(df1[df1['CHE_MKS'] == 'A'].index)\n",
    "print(df1)"
   ]
  },
  {
   "cell_type": "code",
   "execution_count": 37,
   "id": "cd9c7c35",
   "metadata": {},
   "outputs": [
    {
     "data": {
      "text/html": [
       "<div>\n",
       "<style scoped>\n",
       "    .dataframe tbody tr th:only-of-type {\n",
       "        vertical-align: middle;\n",
       "    }\n",
       "\n",
       "    .dataframe tbody tr th {\n",
       "        vertical-align: top;\n",
       "    }\n",
       "\n",
       "    .dataframe thead th {\n",
       "        text-align: right;\n",
       "    }\n",
       "</style>\n",
       "<table border=\"1\" class=\"dataframe\">\n",
       "  <thead>\n",
       "    <tr style=\"text-align: right;\">\n",
       "      <th></th>\n",
       "      <th>ROLLNO</th>\n",
       "      <th>PHY_MKS</th>\n",
       "      <th>CHE_MKS</th>\n",
       "      <th>MAT_MKS</th>\n",
       "    </tr>\n",
       "  </thead>\n",
       "  <tbody>\n",
       "    <tr>\n",
       "      <th>0</th>\n",
       "      <td>10001</td>\n",
       "      <td>24</td>\n",
       "      <td>28</td>\n",
       "      <td>35</td>\n",
       "    </tr>\n",
       "    <tr>\n",
       "      <th>1</th>\n",
       "      <td>10002</td>\n",
       "      <td>33</td>\n",
       "      <td>21</td>\n",
       "      <td>30</td>\n",
       "    </tr>\n",
       "    <tr>\n",
       "      <th>2</th>\n",
       "      <td>10003</td>\n",
       "      <td>30</td>\n",
       "      <td>36</td>\n",
       "      <td>56</td>\n",
       "    </tr>\n",
       "    <tr>\n",
       "      <th>3</th>\n",
       "      <td>10004</td>\n",
       "      <td>12</td>\n",
       "      <td>19</td>\n",
       "      <td>33</td>\n",
       "    </tr>\n",
       "    <tr>\n",
       "      <th>4</th>\n",
       "      <td>10005</td>\n",
       "      <td>28</td>\n",
       "      <td>22</td>\n",
       "      <td>44</td>\n",
       "    </tr>\n",
       "    <tr>\n",
       "      <th>...</th>\n",
       "      <td>...</td>\n",
       "      <td>...</td>\n",
       "      <td>...</td>\n",
       "      <td>...</td>\n",
       "    </tr>\n",
       "    <tr>\n",
       "      <th>2871</th>\n",
       "      <td>25193</td>\n",
       "      <td>15</td>\n",
       "      <td>19</td>\n",
       "      <td>14</td>\n",
       "    </tr>\n",
       "    <tr>\n",
       "      <th>2872</th>\n",
       "      <td>25194</td>\n",
       "      <td>13</td>\n",
       "      <td>34</td>\n",
       "      <td>24</td>\n",
       "    </tr>\n",
       "    <tr>\n",
       "      <th>2874</th>\n",
       "      <td>25196</td>\n",
       "      <td>20</td>\n",
       "      <td>26</td>\n",
       "      <td>33</td>\n",
       "    </tr>\n",
       "    <tr>\n",
       "      <th>2875</th>\n",
       "      <td>25197</td>\n",
       "      <td>27</td>\n",
       "      <td>24</td>\n",
       "      <td>26</td>\n",
       "    </tr>\n",
       "    <tr>\n",
       "      <th>2876</th>\n",
       "      <td>25198</td>\n",
       "      <td>9</td>\n",
       "      <td>18</td>\n",
       "      <td>31</td>\n",
       "    </tr>\n",
       "  </tbody>\n",
       "</table>\n",
       "<p>2016 rows × 4 columns</p>\n",
       "</div>"
      ],
      "text/plain": [
       "      ROLLNO PHY_MKS CHE_MKS MAT_MKS\n",
       "0      10001      24      28      35\n",
       "1      10002      33      21      30\n",
       "2      10003      30      36      56\n",
       "3      10004      12      19      33\n",
       "4      10005      28      22      44\n",
       "...      ...     ...     ...     ...\n",
       "2871   25193      15      19      14\n",
       "2872   25194      13      34      24\n",
       "2874   25196      20      26      33\n",
       "2875   25197      27      24      26\n",
       "2876   25198       9      18      31\n",
       "\n",
       "[2016 rows x 4 columns]"
      ]
     },
     "execution_count": 37,
     "metadata": {},
     "output_type": "execute_result"
    }
   ],
   "source": [
    "df1.head(2016)"
   ]
  },
  {
   "cell_type": "code",
   "execution_count": 39,
   "id": "efe604f2",
   "metadata": {},
   "outputs": [
    {
     "name": "stdout",
     "output_type": "stream",
     "text": [
      "   ROLLNO PHY_MKS CHE_MKS MAT_MKS  PM\n",
      "0   10001      24      28      35  59\n",
      "1   10002      33      21      30  63\n",
      "2   10003      30      36      56  86\n",
      "3   10004      12      19      33  45\n",
      "4   10005      28      22      44  72\n"
     ]
    }
   ],
   "source": [
    "PM = df1[\"PHY_MKS\"] + df1[\"MAT_MKS\"]\n",
    "df1[\"PM\"] = PM\n",
    "print(df1.head())"
   ]
  },
  {
   "cell_type": "code",
   "execution_count": 40,
   "id": "d6911de2",
   "metadata": {},
   "outputs": [],
   "source": [
    "df1.to_excel(\"new_generated.xlsx\",\n",
    "             sheet_name='Sheet_name_1') "
   ]
  },
  {
   "cell_type": "code",
   "execution_count": 48,
   "id": "5107edad",
   "metadata": {},
   "outputs": [
    {
     "data": {
      "text/html": [
       "<div>\n",
       "<style scoped>\n",
       "    .dataframe tbody tr th:only-of-type {\n",
       "        vertical-align: middle;\n",
       "    }\n",
       "\n",
       "    .dataframe tbody tr th {\n",
       "        vertical-align: top;\n",
       "    }\n",
       "\n",
       "    .dataframe thead th {\n",
       "        text-align: right;\n",
       "    }\n",
       "</style>\n",
       "<table border=\"1\" class=\"dataframe\">\n",
       "  <thead>\n",
       "    <tr style=\"text-align: right;\">\n",
       "      <th></th>\n",
       "      <th>ROLLNO</th>\n",
       "      <th>PHY_MKS</th>\n",
       "      <th>CHE_MKS</th>\n",
       "      <th>MAT_MKS</th>\n",
       "      <th>PM</th>\n",
       "    </tr>\n",
       "  </thead>\n",
       "  <tbody>\n",
       "    <tr>\n",
       "      <th>0</th>\n",
       "      <td>10001</td>\n",
       "      <td>24</td>\n",
       "      <td>28</td>\n",
       "      <td>35</td>\n",
       "      <td>59</td>\n",
       "    </tr>\n",
       "    <tr>\n",
       "      <th>1</th>\n",
       "      <td>10002</td>\n",
       "      <td>33</td>\n",
       "      <td>21</td>\n",
       "      <td>30</td>\n",
       "      <td>63</td>\n",
       "    </tr>\n",
       "    <tr>\n",
       "      <th>2</th>\n",
       "      <td>10003</td>\n",
       "      <td>30</td>\n",
       "      <td>36</td>\n",
       "      <td>56</td>\n",
       "      <td>86</td>\n",
       "    </tr>\n",
       "    <tr>\n",
       "      <th>3</th>\n",
       "      <td>10004</td>\n",
       "      <td>12</td>\n",
       "      <td>19</td>\n",
       "      <td>33</td>\n",
       "      <td>45</td>\n",
       "    </tr>\n",
       "    <tr>\n",
       "      <th>4</th>\n",
       "      <td>10005</td>\n",
       "      <td>28</td>\n",
       "      <td>22</td>\n",
       "      <td>44</td>\n",
       "      <td>72</td>\n",
       "    </tr>\n",
       "  </tbody>\n",
       "</table>\n",
       "</div>"
      ],
      "text/plain": [
       "   ROLLNO  PHY_MKS  CHE_MKS  MAT_MKS  PM\n",
       "0   10001       24       28       35  59\n",
       "1   10002       33       21       30  63\n",
       "2   10003       30       36       56  86\n",
       "3   10004       12       19       33  45\n",
       "4   10005       28       22       44  72"
      ]
     },
     "execution_count": 48,
     "metadata": {},
     "output_type": "execute_result"
    }
   ],
   "source": [
    "df2= pd.read_excel(r\"C:\\Users\\shash\\Desktop\\new_generated.xlsx\")\n",
    "df2.head()"
   ]
  },
  {
   "cell_type": "code",
   "execution_count": 46,
   "id": "1717c6f3",
   "metadata": {},
   "outputs": [
    {
     "ename": "NameError",
     "evalue": "name 'Unnamed' is not defined",
     "output_type": "error",
     "traceback": [
      "\u001b[1;31m---------------------------------------------------------------------------\u001b[0m",
      "\u001b[1;31mNameError\u001b[0m                                 Traceback (most recent call last)",
      "\u001b[1;32m<ipython-input-46-d7acc3861a18>\u001b[0m in \u001b[0;36m<module>\u001b[1;34m\u001b[0m\n\u001b[1;32m----> 1\u001b[1;33m \u001b[0mdf2\u001b[0m\u001b[1;33m.\u001b[0m\u001b[0mdrop\u001b[0m\u001b[1;33m(\u001b[0m\u001b[1;33m[\u001b[0m\u001b[0mUnnamed\u001b[0m\u001b[1;33m]\u001b[0m\u001b[1;33m,\u001b[0m\u001b[0maxis\u001b[0m\u001b[1;33m=\u001b[0m\u001b[1;36m1\u001b[0m\u001b[1;33m)\u001b[0m\u001b[1;33m\u001b[0m\u001b[1;33m\u001b[0m\u001b[0m\n\u001b[0m",
      "\u001b[1;31mNameError\u001b[0m: name 'Unnamed' is not defined"
     ]
    }
   ],
   "source": [
    "#df2.drop([Unnamed],axis=1)"
   ]
  },
  {
   "cell_type": "code",
   "execution_count": 56,
   "id": "2fa9f4cb",
   "metadata": {},
   "outputs": [],
   "source": [
    "df2.sort_values('PM', axis=0 , ascending = False,inplace=True)"
   ]
  },
  {
   "cell_type": "code",
   "execution_count": 57,
   "id": "5f6093aa",
   "metadata": {},
   "outputs": [
    {
     "data": {
      "text/html": [
       "<div>\n",
       "<style scoped>\n",
       "    .dataframe tbody tr th:only-of-type {\n",
       "        vertical-align: middle;\n",
       "    }\n",
       "\n",
       "    .dataframe tbody tr th {\n",
       "        vertical-align: top;\n",
       "    }\n",
       "\n",
       "    .dataframe thead th {\n",
       "        text-align: right;\n",
       "    }\n",
       "</style>\n",
       "<table border=\"1\" class=\"dataframe\">\n",
       "  <thead>\n",
       "    <tr style=\"text-align: right;\">\n",
       "      <th></th>\n",
       "      <th>ROLLNO</th>\n",
       "      <th>PHY_MKS</th>\n",
       "      <th>CHE_MKS</th>\n",
       "      <th>MAT_MKS</th>\n",
       "      <th>PM</th>\n",
       "    </tr>\n",
       "  </thead>\n",
       "  <tbody>\n",
       "    <tr>\n",
       "      <th>197</th>\n",
       "      <td>11058</td>\n",
       "      <td>58</td>\n",
       "      <td>64</td>\n",
       "      <td>73</td>\n",
       "      <td>131</td>\n",
       "    </tr>\n",
       "    <tr>\n",
       "      <th>989</th>\n",
       "      <td>16024</td>\n",
       "      <td>59</td>\n",
       "      <td>56</td>\n",
       "      <td>71</td>\n",
       "      <td>130</td>\n",
       "    </tr>\n",
       "    <tr>\n",
       "      <th>660</th>\n",
       "      <td>14023</td>\n",
       "      <td>56</td>\n",
       "      <td>67</td>\n",
       "      <td>73</td>\n",
       "      <td>129</td>\n",
       "    </tr>\n",
       "    <tr>\n",
       "      <th>1906</th>\n",
       "      <td>25083</td>\n",
       "      <td>55</td>\n",
       "      <td>65</td>\n",
       "      <td>71</td>\n",
       "      <td>126</td>\n",
       "    </tr>\n",
       "    <tr>\n",
       "      <th>940</th>\n",
       "      <td>15196</td>\n",
       "      <td>52</td>\n",
       "      <td>70</td>\n",
       "      <td>73</td>\n",
       "      <td>125</td>\n",
       "    </tr>\n",
       "    <tr>\n",
       "      <th>...</th>\n",
       "      <td>...</td>\n",
       "      <td>...</td>\n",
       "      <td>...</td>\n",
       "      <td>...</td>\n",
       "      <td>...</td>\n",
       "    </tr>\n",
       "    <tr>\n",
       "      <th>487</th>\n",
       "      <td>13078</td>\n",
       "      <td>11</td>\n",
       "      <td>22</td>\n",
       "      <td>14</td>\n",
       "      <td>25</td>\n",
       "    </tr>\n",
       "    <tr>\n",
       "      <th>384</th>\n",
       "      <td>12127</td>\n",
       "      <td>9</td>\n",
       "      <td>15</td>\n",
       "      <td>15</td>\n",
       "      <td>24</td>\n",
       "    </tr>\n",
       "    <tr>\n",
       "      <th>1896</th>\n",
       "      <td>25073</td>\n",
       "      <td>10</td>\n",
       "      <td>21</td>\n",
       "      <td>14</td>\n",
       "      <td>24</td>\n",
       "    </tr>\n",
       "    <tr>\n",
       "      <th>1852</th>\n",
       "      <td>25028</td>\n",
       "      <td>12</td>\n",
       "      <td>19</td>\n",
       "      <td>12</td>\n",
       "      <td>24</td>\n",
       "    </tr>\n",
       "    <tr>\n",
       "      <th>951</th>\n",
       "      <td>15207</td>\n",
       "      <td>12</td>\n",
       "      <td>16</td>\n",
       "      <td>9</td>\n",
       "      <td>21</td>\n",
       "    </tr>\n",
       "  </tbody>\n",
       "</table>\n",
       "<p>2016 rows × 5 columns</p>\n",
       "</div>"
      ],
      "text/plain": [
       "      ROLLNO  PHY_MKS  CHE_MKS  MAT_MKS   PM\n",
       "197    11058       58       64       73  131\n",
       "989    16024       59       56       71  130\n",
       "660    14023       56       67       73  129\n",
       "1906   25083       55       65       71  126\n",
       "940    15196       52       70       73  125\n",
       "...      ...      ...      ...      ...  ...\n",
       "487    13078       11       22       14   25\n",
       "384    12127        9       15       15   24\n",
       "1896   25073       10       21       14   24\n",
       "1852   25028       12       19       12   24\n",
       "951    15207       12       16        9   21\n",
       "\n",
       "[2016 rows x 5 columns]"
      ]
     },
     "execution_count": 57,
     "metadata": {},
     "output_type": "execute_result"
    }
   ],
   "source": [
    "df2"
   ]
  },
  {
   "cell_type": "code",
   "execution_count": 58,
   "id": "edf162d4",
   "metadata": {},
   "outputs": [],
   "source": [
    "df2.to_excel(\"final_sorted1.xlsx\",\n",
    "             sheet_name='Sheet_name_2') "
   ]
  },
  {
   "cell_type": "code",
   "execution_count": null,
   "id": "30918650",
   "metadata": {},
   "outputs": [],
   "source": []
  }
 ],
 "metadata": {
  "kernelspec": {
   "display_name": "Python 3",
   "language": "python",
   "name": "python3"
  },
  "language_info": {
   "codemirror_mode": {
    "name": "ipython",
    "version": 3
   },
   "file_extension": ".py",
   "mimetype": "text/x-python",
   "name": "python",
   "nbconvert_exporter": "python",
   "pygments_lexer": "ipython3",
   "version": "3.8.8"
  }
 },
 "nbformat": 4,
 "nbformat_minor": 5
}
